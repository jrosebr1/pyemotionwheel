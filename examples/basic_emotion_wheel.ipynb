{
 "cells": [
  {
   "cell_type": "code",
   "execution_count": 3,
   "id": "34004859-7fb2-44e1-a845-e8f201b191b4",
   "metadata": {},
   "outputs": [
    {
     "ename": "ModuleNotFoundError",
     "evalue": "No module named 'pyemotionwheel'",
     "output_type": "error",
     "traceback": [
      "\u001b[0;31m---------------------------------------------------------------------------\u001b[0m",
      "\u001b[0;31mModuleNotFoundError\u001b[0m                       Traceback (most recent call last)",
      "Cell \u001b[0;32mIn[3], line 2\u001b[0m\n\u001b[1;32m      1\u001b[0m \u001b[38;5;66;03m# import the necessary packages\u001b[39;00m\n\u001b[0;32m----> 2\u001b[0m \u001b[38;5;28;01mfrom\u001b[39;00m \u001b[38;5;21;01mpyemotionwheel\u001b[39;00m \u001b[38;5;28;01mimport\u001b[39;00m BasicEmotionWheel\n",
      "\u001b[0;31mModuleNotFoundError\u001b[0m: No module named 'pyemotionwheel'"
     ]
    }
   ],
   "source": [
    "# import the necessary packages\n",
    "from pyemotionwheel import BasicEmotionWheel"
   ]
  },
  {
   "cell_type": "code",
   "execution_count": null,
   "id": "d8192c9c-b9e3-4bdb-a7f8-3afc70c2bc2d",
   "metadata": {},
   "outputs": [],
   "source": [
    "# instantiate an instance of the emotion wheel, then show the tree structure\n",
    "wheel = EmotionWheel()\n",
    "print(wheel)"
   ]
  },
  {
   "cell_type": "code",
   "execution_count": null,
   "id": "40e48b0a-c830-4a79-849d-01d6ee98278a",
   "metadata": {},
   "outputs": [],
   "source": [
    "# get all emotions in the tree, ignoring hierarchical structure\n",
    "wheel.all_emotions()"
   ]
  },
  {
   "cell_type": "code",
   "execution_count": null,
   "id": "4ce2004b-50e1-400b-b27b-e10eeb936b2b",
   "metadata": {},
   "outputs": [],
   "source": [
    "# get all primary emotions (i.e., first level of the tree)\n",
    "wheel.primary_emotions()"
   ]
  },
  {
   "cell_type": "code",
   "execution_count": null,
   "id": "d5f87491-73f6-4553-8d0c-0090b310a186",
   "metadata": {},
   "outputs": [],
   "source": [
    "# get all secondary emotions (i.e., second level of the tree)\n",
    "wheel.secondary_emotions()"
   ]
  },
  {
   "cell_type": "code",
   "execution_count": null,
   "id": "6c83c973-2e48-4c26-8344-09b2e1833b7f",
   "metadata": {},
   "outputs": [],
   "source": [
    "# get all tertiary emotions (i.e., third level of the tree)\n",
    "wheel.tertiary_emotions()"
   ]
  },
  {
   "cell_type": "code",
   "execution_count": null,
   "id": "6e13d724-dbd6-4670-93b6-37a1f914a4b1",
   "metadata": {},
   "outputs": [],
   "source": [
    "# find a specific emotion in the wheel\n",
    "wheel.find_emotion(\"excited\")"
   ]
  },
  {
   "cell_type": "code",
   "execution_count": null,
   "id": "04300cdc-8d7c-4703-b7ab-71703733b4c3",
   "metadata": {},
   "outputs": [],
   "source": [
    "# grab the node associated with 'Compassionate', then trace it back to the root\n",
    "compassionate = wheel.find_emotion(\"Compassionate\")\n",
    "compassionate.path[::-1]"
   ]
  },
  {
   "cell_type": "code",
   "execution_count": null,
   "id": "f983b45d-dbba-44a0-82e2-0a9765458865",
   "metadata": {},
   "outputs": [],
   "source": [
    "# grab the node associated with 'Nervous', then show the children of that node\n",
    "nervous = wheel.find_emotion(\"Nervous\")\n",
    "nervous.children"
   ]
  },
  {
   "cell_type": "code",
   "execution_count": null,
   "id": "7c29425d-1432-4624-abde-d0c5a8399462",
   "metadata": {},
   "outputs": [],
   "source": []
  }
 ],
 "metadata": {
  "kernelspec": {
   "display_name": "Python 3 (ipykernel)",
   "language": "python",
   "name": "python3"
  },
  "language_info": {
   "codemirror_mode": {
    "name": "ipython",
    "version": 3
   },
   "file_extension": ".py",
   "mimetype": "text/x-python",
   "name": "python",
   "nbconvert_exporter": "python",
   "pygments_lexer": "ipython3",
   "version": "3.11.4"
  }
 },
 "nbformat": 4,
 "nbformat_minor": 5
}
